{
  "nbformat": 4,
  "nbformat_minor": 0,
  "metadata": {
    "colab": {
      "provenance": [],
      "authorship_tag": "ABX9TyN474WXlibkCYjyzQITuJom",
      "include_colab_link": true
    },
    "kernelspec": {
      "name": "python3",
      "display_name": "Python 3"
    },
    "language_info": {
      "name": "python"
    }
  },
  "cells": [
    {
      "cell_type": "markdown",
      "metadata": {
        "id": "view-in-github",
        "colab_type": "text"
      },
      "source": [
        "<a href=\"https://colab.research.google.com/github/GitRudra/algo-repo/blob/master/intelimath%5Cpython%5Conline-classes%5CPython_Session_1_2024_02_17.ipynb\" target=\"_parent\"><img src=\"https://colab.research.google.com/assets/colab-badge.svg\" alt=\"Open In Colab\"/></a>"
      ]
    },
    {
      "cell_type": "code",
      "execution_count": null,
      "metadata": {
        "colab": {
          "base_uri": "https://localhost:8080/"
        },
        "id": "W96yFbPPYa-a",
        "outputId": "127a23b4-9bc0-42bc-9a4a-62e1f2151ba4"
      },
      "outputs": [
        {
          "output_type": "stream",
          "name": "stdout",
          "text": [
            "Hello world\n"
          ]
        }
      ],
      "source": [
        "print(\"Hello world\")"
      ]
    },
    {
      "cell_type": "code",
      "source": [
        "#interpreter\n",
        "#\n",
        "# bin(135)\n",
        "hex(135)"
      ],
      "metadata": {
        "colab": {
          "base_uri": "https://localhost:8080/",
          "height": 35
        },
        "id": "hjZNuZGuhaGE",
        "outputId": "bf03b79d-7c1a-439c-9490-6a3a7f1d22f3"
      },
      "execution_count": null,
      "outputs": [
        {
          "output_type": "execute_result",
          "data": {
            "text/plain": [
              "'0x87'"
            ],
            "application/vnd.google.colaboratory.intrinsic+json": {
              "type": "string"
            }
          },
          "metadata": {},
          "execution_count": 5
        }
      ]
    },
    {
      "cell_type": "code",
      "source": [
        "num=10\n",
        "print(num, id(num))\n",
        "# Changing value of a vaiable allocates a brand new memory with the value and the vairable points to the new address\n",
        "num=20\n",
        "print(num, id(num))\n",
        "#Python is a dynamic programing language\n",
        "print(25.6, id(25.6))"
      ],
      "metadata": {
        "colab": {
          "base_uri": "https://localhost:8080/"
        },
        "id": "VxgTvc_To9yi",
        "outputId": "0ddefbbe-a763-4fcc-d2e5-447c8dfc017a"
      },
      "execution_count": null,
      "outputs": [
        {
          "output_type": "stream",
          "name": "stdout",
          "text": [
            "10 139207900217872\n",
            "20 139207900218192\n",
            "25.6 139206631846512\n"
          ]
        }
      ]
    },
    {
      "cell_type": "markdown",
      "source": [
        "### **Python is memory efficient & slowest language **"
      ],
      "metadata": {
        "id": "uogcONu4tSNT"
      }
    },
    {
      "cell_type": "code",
      "source": [],
      "metadata": {
        "id": "BvRDkjvixMlf"
      },
      "execution_count": null,
      "outputs": []
    },
    {
      "cell_type": "markdown",
      "source": [
        "Explicit Interning"
      ],
      "metadata": {
        "id": "4aqopzYYw1zE"
      }
    },
    {
      "cell_type": "code",
      "source": [
        "import sys\n",
        "fname =  sys.intern('Rudra Pal')\n",
        "print(fname)"
      ],
      "metadata": {
        "colab": {
          "base_uri": "https://localhost:8080/"
        },
        "id": "9yd-wxZMw7JX",
        "outputId": "64e4ee7e-044b-4393-bfc9-9b238b872f34"
      },
      "execution_count": null,
      "outputs": [
        {
          "output_type": "stream",
          "name": "stdout",
          "text": [
            "Rudra Pal\n"
          ]
        }
      ]
    },
    {
      "cell_type": "code",
      "source": [
        "print(print('rudra'))"
      ],
      "metadata": {
        "colab": {
          "base_uri": "https://localhost:8080/"
        },
        "id": "sU_iOIqN_81w",
        "outputId": "163ffa7a-ba6c-417f-81d8-05c36159a013"
      },
      "execution_count": null,
      "outputs": [
        {
          "output_type": "stream",
          "name": "stdout",
          "text": [
            "rudra\n",
            "None\n"
          ]
        }
      ]
    },
    {
      "cell_type": "code",
      "source": [
        "age=100\n",
        "is_eligible = (age > 18) and True and 'vasanth'\n",
        "print(is_eligible)"
      ],
      "metadata": {
        "colab": {
          "base_uri": "https://localhost:8080/"
        },
        "id": "IXOFC2KyCzhs",
        "outputId": "e92a14fd-624a-471f-c6ac-cbf6dcf3cfb7"
      },
      "execution_count": null,
      "outputs": [
        {
          "output_type": "stream",
          "name": "stdout",
          "text": [
            "vasanth\n"
          ]
        }
      ]
    },
    {
      "cell_type": "code",
      "source": [
        "print(13 & 7)\n",
        "print(21 & 18)\n",
        "print(13 | 7)"
      ],
      "metadata": {
        "colab": {
          "base_uri": "https://localhost:8080/"
        },
        "id": "4rs0x6iup0YQ",
        "outputId": "1fc7889d-152a-4bf4-d57f-c0dc0cb4f940"
      },
      "execution_count": 2,
      "outputs": [
        {
          "output_type": "stream",
          "name": "stdout",
          "text": [
            "5\n",
            "16\n",
            "15\n"
          ]
        }
      ]
    },
    {
      "cell_type": "markdown",
      "source": [
        "# **Strings**"
      ],
      "metadata": {
        "id": "1FOFoqYhw167"
      }
    },
    {
      "cell_type": "code",
      "source": [
        "# strings -> '', \"\", \"\"\" \"\"\", ''' '''\n",
        "print(\"Sachin Tendulkar is a 'Good' cricketer\")\n"
      ],
      "metadata": {
        "colab": {
          "base_uri": "https://localhost:8080/"
        },
        "id": "lkuJlAGlw7Ka",
        "outputId": "a2d69003-507a-4b56-b958-d4b26719dfbc"
      },
      "execution_count": 3,
      "outputs": [
        {
          "output_type": "stream",
          "name": "stdout",
          "text": [
            "Sachin Tendulkar is a 'Good' cricketer\n"
          ]
        }
      ]
    },
    {
      "cell_type": "code",
      "source": [
        "#user input\n",
        "name: str = input(\"Name\")\n",
        "age: int = input(\"Age\")\n",
        "print('name: ', name)\n",
        "print('age: ', age)"
      ],
      "metadata": {
        "colab": {
          "base_uri": "https://localhost:8080/"
        },
        "id": "ZVuswJnj0efb",
        "outputId": "88e32994-2fe0-4e39-eea5-c85b92c6a9bf"
      },
      "execution_count": 5,
      "outputs": [
        {
          "output_type": "stream",
          "name": "stdout",
          "text": [
            "Name34\n",
            "Agedrr\n",
            "name:  34\n",
            "age:  drr\n"
          ]
        }
      ]
    }
  ]
}